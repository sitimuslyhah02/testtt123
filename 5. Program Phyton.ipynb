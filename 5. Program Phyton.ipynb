{
  "nbformat": 4,
  "nbformat_minor": 0,
  "metadata": {
    "colab": {
      "provenance": []
    },
    "kernelspec": {
      "name": "python3",
      "display_name": "Python 3"
    },
    "language_info": {
      "name": "python"
    }
  },
  "cells": [
    {
      "cell_type": "markdown",
      "source": [
        "5. Program Phyton harga barang dan total pembayaran"
      ],
      "metadata": {
        "id": "LaZtJjzV7uPB"
      }
    },
    {
      "cell_type": "code",
      "source": [
        "def main():\n",
        "    total_harga = 0\n",
        "\n",
        "    for i in range(1, 4):\n",
        "        while True:\n",
        "            try:\n",
        "                harga = float(input(f\"Masukkan harga barang ke-{i}: \"))\n",
        "                total_harga += harga\n",
        "                break\n",
        "            except ValueError:\n",
        "                print(\"Input tidak valid. Harap masukkan angka.\")\n",
        "\n",
        "    print(f\"Total pembayaran adalah: {total_harga}\")\n",
        "\n",
        "if __name__ == \"__main__\":\n",
        "    main()\n"
      ],
      "metadata": {
        "colab": {
          "base_uri": "https://localhost:8080/"
        },
        "id": "-50pdWXP8EMh",
        "outputId": "1b504f9b-8fa4-49de-c01c-3364f145ad58"
      },
      "execution_count": 1,
      "outputs": [
        {
          "output_type": "stream",
          "name": "stdout",
          "text": [
            "Masukkan harga barang ke-1: 250.000\n",
            "Masukkan harga barang ke-2: 45.000\n",
            "Masukkan harga barang ke-3: 60.000\n",
            "Total pembayaran adalah: 355.0\n"
          ]
        }
      ]
    }
  ]
}