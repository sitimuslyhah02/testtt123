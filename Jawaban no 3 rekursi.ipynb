{
  "nbformat": 4,
  "nbformat_minor": 0,
  "metadata": {
    "colab": {
      "provenance": []
    },
    "kernelspec": {
      "name": "python3",
      "display_name": "Python 3"
    },
    "language_info": {
      "name": "python"
    }
  },
  "cells": [
    {
      "cell_type": "markdown",
      "source": [
        "3. Rekursi Untuk Menghitung Faktorial"
      ],
      "metadata": {
        "id": "PG6pOZH7x4Fz"
      }
    },
    {
      "cell_type": "code",
      "source": [
        "def faktorial(n):\n",
        "    # Basis kasus: faktorial dari 0 atau 1 adalah 1\n",
        "    if n == 0 or n == 1:\n",
        "        return 1\n",
        "    else:\n",
        "        # Rekursif: n * faktorial dari (n-1)\n",
        "        return n * faktorial(n - 1)\n",
        "\n",
        "# Meminta input dari pengguna\n",
        "angka = int(input(\"Masukkan angka untuk menghitung faktorial: \"))\n",
        "hasil = faktorial(angka)\n",
        "\n",
        "print(f\"Faktorial dari {angka} adalah {hasil}\")"
      ],
      "metadata": {
        "colab": {
          "base_uri": "https://localhost:8080/"
        },
        "id": "OqcSiJGux1mn",
        "outputId": "6b6f0fee-7fe0-42fa-c197-4fc174b4098f"
      },
      "execution_count": 2,
      "outputs": [
        {
          "output_type": "stream",
          "name": "stdout",
          "text": [
            "Masukkan angka untuk menghitung faktorial: 23\n",
            "Faktorial dari 23 adalah 25852016738884976640000\n"
          ]
        }
      ]
    }
  ]
}