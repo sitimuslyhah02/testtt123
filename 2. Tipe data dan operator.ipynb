{
  "nbformat": 4,
  "nbformat_minor": 0,
  "metadata": {
    "colab": {
      "provenance": []
    },
    "kernelspec": {
      "name": "python3",
      "display_name": "Python 3"
    },
    "language_info": {
      "name": "python"
    }
  },
  "cells": [
    {
      "cell_type": "markdown",
      "source": [
        "2. Tipe data dan operator dalam menghitung rata-rata dan menampilkan syarat kelulusan"
      ],
      "metadata": {
        "id": "pPnXHPuk_n8s"
      }
    },
    {
      "cell_type": "code",
      "source": [
        "def main():\n",
        "    try:\n",
        "        # Input nilai tiga mata pelajaran\n",
        "        nilai1 = float(input(\"Masukkan nilai mata pelajaran 1: \"))\n",
        "        nilai2 = float(input(\"Masukkan nilai mata pelajaran 2: \"))\n",
        "        nilai3 = float(input(\"Masukkan nilai mata pelajaran 3: \"))\n",
        "\n",
        "        # Hitung rata-rata\n",
        "        rata_rata = (nilai1 + nilai2 + nilai3) / 3\n",
        "\n",
        "        # Tentukan status kelulusan\n",
        "        if rata_rata >= 75:\n",
        "            status = \"Lulus\"\n",
        "        else:\n",
        "            status = \"Tidak Lulus\"\n",
        "\n",
        "        # Tampilkan hasil\n",
        "        print(f\"Rata-rata nilai: {rata_rata:.2f}\")\n",
        "        print(f\"Status kelulusan: {status}\")\n",
        "\n",
        "    except ValueError:\n",
        "        print(\"Input tidak valid. Harap masukkan angka yang benar.\")\n",
        "\n",
        "if __name__ == \"__main__\":\n",
        "    main()\n"
      ],
      "metadata": {
        "colab": {
          "base_uri": "https://localhost:8080/"
        },
        "id": "3f8ZAWfzGG0m",
        "outputId": "23bfddf3-9067-4d70-8e2d-cb9d860954e4"
      },
      "execution_count": 6,
      "outputs": [
        {
          "output_type": "stream",
          "name": "stdout",
          "text": [
            "Masukkan nilai mata pelajaran 1: 98\n",
            "Masukkan nilai mata pelajaran 2: 78\n",
            "Masukkan nilai mata pelajaran 3: 85\n",
            "Rata-rata nilai: 87.00\n",
            "Status kelulusan: Lulus\n"
          ]
        }
      ]
    }
  ]
}