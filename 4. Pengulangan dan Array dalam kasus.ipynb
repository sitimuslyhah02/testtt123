{
  "nbformat": 4,
  "nbformat_minor": 0,
  "metadata": {
    "colab": {
      "provenance": []
    },
    "kernelspec": {
      "name": "python3",
      "display_name": "Python 3"
    },
    "language_info": {
      "name": "python"
    }
  },
  "cells": [
    {
      "cell_type": "markdown",
      "source": [
        "4. Penggunaan Pengulangan dan Array dalam kasus input nilai siswa"
      ],
      "metadata": {
        "id": "S-2sHTLv3yF5"
      }
    },
    {
      "cell_type": "code",
      "source": [
        "def main():\n",
        "    nilai_siswa = []\n",
        "\n",
        "    # Memasukkan nilai untuk 5 siswa\n",
        "    for i in range(5):\n",
        "        while True:\n",
        "            try:\n",
        "                nilai = float(input(f\"Masukkan nilai siswa ke-{i + 1}: \"))\n",
        "                break\n",
        "            except ValueError:\n",
        "                print(\"Input tidak valid. Harap masukkan angka.\")\n",
        "\n",
        "        nilai_siswa.append(nilai)\n",
        "\n",
        "    # Mencari nilai tertinggi dan posisi siswa\n",
        "    nilai_tertinggi = nilai_siswa[0]\n",
        "    indeks_tertinggi = 0\n",
        "\n",
        "    for index, nilai in enumerate(nilai_siswa):\n",
        "        if nilai > nilai_tertinggi:\n",
        "            nilai_tertinggi = nilai\n",
        "            indeks_tertinggi = index\n",
        "\n",
        "    # Tampilkan hasil\n",
        "    print(f\"Nilai tertinggi adalah {nilai_tertinggi} yang diperoleh oleh siswa ke-{indeks_tertinggi + 1}.\")\n",
        "\n",
        "if __name__ == \"__main__\":\n",
        "    main()\n"
      ],
      "metadata": {
        "colab": {
          "base_uri": "https://localhost:8080/"
        },
        "id": "HIzPerQU4Ak1",
        "outputId": "6a78148e-5f82-47cd-9ff3-adcfc62c163d"
      },
      "execution_count": 1,
      "outputs": [
        {
          "output_type": "stream",
          "name": "stdout",
          "text": [
            "Masukkan nilai siswa ke-1: 78\n",
            "Masukkan nilai siswa ke-2: 88\n",
            "Masukkan nilai siswa ke-3: 67\n",
            "Masukkan nilai siswa ke-4: 90\n",
            "Masukkan nilai siswa ke-5: 85\n",
            "Nilai tertinggi adalah 90.0 yang diperoleh oleh siswa ke-4.\n"
          ]
        }
      ]
    }
  ]
}