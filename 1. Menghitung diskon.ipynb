{
  "nbformat": 4,
  "nbformat_minor": 0,
  "metadata": {
    "colab": {
      "provenance": []
    },
    "kernelspec": {
      "name": "python3",
      "display_name": "Python 3"
    },
    "language_info": {
      "name": "python"
    }
  },
  "cells": [
    {
      "cell_type": "markdown",
      "source": [
        "1. Program phyton untuk menghitung diskon jika syarat terpenuhi"
      ],
      "metadata": {
        "id": "pPnXHPuk_n8s"
      }
    },
    {
      "cell_type": "code",
      "source": [
        "total_belanja = float(input(\"Masukkan total belanja: \"))\n",
        "\n",
        "if total_belanja > 500000:\n",
        "    diskon = 0.1 * total_belanja\n",
        "    total_bayar = total_belanja - diskon\n",
        "    print(f\"Anda mendapatkan diskon 10%! Total pembayaran: {total_bayar}\")\n",
        "else:\n",
        "    total_bayar = total_belanja\n",
        "    print(f\"Total pembayaran: {total_bayar}\")"
      ],
      "metadata": {
        "colab": {
          "base_uri": "https://localhost:8080/"
        },
        "id": "LRsNeRI-C-hg",
        "outputId": "de0939f8-4559-46dc-b4b5-15049f5bd55c"
      },
      "execution_count": 5,
      "outputs": [
        {
          "output_type": "stream",
          "name": "stdout",
          "text": [
            "Masukkan total belanja: 1000000\n",
            "Anda mendapatkan diskon 10%! Total pembayaran: 900000.0\n"
          ]
        }
      ]
    }
  ]
}